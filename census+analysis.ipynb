{
 "cells": [
  {
   "cell_type": "code",
   "execution_count": 1,
   "metadata": {
    "_cell_guid": "5af7ec27-b2c0-4874-931e-5bcd4b786e04",
    "_uuid": "efcc86a064b4778b8038b1d1d2b6de49dd8c7ae2",
    "collapsed": true
   },
   "outputs": [],
   "source": [
    "import pandas as pd\n",
    "import numpy as np\n",
    "from sklearn.tree import DecisionTreeClassifier\n",
    "from sklearn.preprocessing import OneHotEncoder\n",
    "from sklearn.preprocessing import LabelEncoder\n",
    "from sklearn.model_selection import train_test_split\n",
    "import seaborn as sns\n",
    "from sklearn.model_selection import GridSearchCV"
   ]
  },
  {
   "cell_type": "code",
   "execution_count": 2,
   "metadata": {
    "_cell_guid": "dbd5a076-e811-4b46-b240-17d0e9a935c5",
    "_uuid": "0fbe25a80586c7198e4facf1b345a6061fee86a2",
    "collapsed": true
   },
   "outputs": [],
   "source": [
    "dataframe = pd.read_csv(\"../input/adult.csv\")"
   ]
  },
  {
   "cell_type": "markdown",
   "metadata": {
    "_cell_guid": "8ba85480-ea74-47a0-92e6-da69387a2bb7",
    "_uuid": "7cde857cec33a15fcda847e4972babfd8593c6e8"
   },
   "source": [
    "To get fair idea about How Data actually looks like! As we can see, there is punctuation for every missig data like in workclass and occupation column. But, to get sure of such things, let's have a look over Info of Pandas Dataframe"
   ]
  },
  {
   "cell_type": "code",
   "execution_count": 9,
   "metadata": {
    "_cell_guid": "5991ae3d-fb16-4a28-bd9e-292d9dbd85eb",
    "_uuid": "7eebecb228aa2d8c03611d17b93e39dc297f3880",
    "collapsed": false
   },
   "outputs": [
    {
     "data": {
      "text/html": [
       "<div>\n",
       "<style>\n",
       "    .dataframe thead tr:only-child th {\n",
       "        text-align: right;\n",
       "    }\n",
       "\n",
       "    .dataframe thead th {\n",
       "        text-align: left;\n",
       "    }\n",
       "\n",
       "    .dataframe tbody tr th {\n",
       "        vertical-align: top;\n",
       "    }\n",
       "</style>\n",
       "<table border=\"1\" class=\"dataframe\">\n",
       "  <thead>\n",
       "    <tr style=\"text-align: right;\">\n",
       "      <th></th>\n",
       "      <th>age</th>\n",
       "      <th>workclass</th>\n",
       "      <th>fnlwgt</th>\n",
       "      <th>education</th>\n",
       "      <th>education.num</th>\n",
       "      <th>marital.status</th>\n",
       "      <th>occupation</th>\n",
       "      <th>relationship</th>\n",
       "      <th>race</th>\n",
       "      <th>sex</th>\n",
       "      <th>capital.gain</th>\n",
       "      <th>capital.loss</th>\n",
       "      <th>hours.per.week</th>\n",
       "      <th>native.country</th>\n",
       "      <th>income</th>\n",
       "    </tr>\n",
       "  </thead>\n",
       "  <tbody>\n",
       "    <tr>\n",
       "      <th>0</th>\n",
       "      <td>90</td>\n",
       "      <td>?</td>\n",
       "      <td>77053</td>\n",
       "      <td>HS-grad</td>\n",
       "      <td>9</td>\n",
       "      <td>Widowed</td>\n",
       "      <td>?</td>\n",
       "      <td>Not-in-family</td>\n",
       "      <td>White</td>\n",
       "      <td>Female</td>\n",
       "      <td>0</td>\n",
       "      <td>4356</td>\n",
       "      <td>40</td>\n",
       "      <td>United-States</td>\n",
       "      <td>&lt;=50K</td>\n",
       "    </tr>\n",
       "    <tr>\n",
       "      <th>1</th>\n",
       "      <td>82</td>\n",
       "      <td>Private</td>\n",
       "      <td>132870</td>\n",
       "      <td>HS-grad</td>\n",
       "      <td>9</td>\n",
       "      <td>Widowed</td>\n",
       "      <td>Exec-managerial</td>\n",
       "      <td>Not-in-family</td>\n",
       "      <td>White</td>\n",
       "      <td>Female</td>\n",
       "      <td>0</td>\n",
       "      <td>4356</td>\n",
       "      <td>18</td>\n",
       "      <td>United-States</td>\n",
       "      <td>&lt;=50K</td>\n",
       "    </tr>\n",
       "    <tr>\n",
       "      <th>2</th>\n",
       "      <td>66</td>\n",
       "      <td>?</td>\n",
       "      <td>186061</td>\n",
       "      <td>Some-college</td>\n",
       "      <td>10</td>\n",
       "      <td>Widowed</td>\n",
       "      <td>?</td>\n",
       "      <td>Unmarried</td>\n",
       "      <td>Black</td>\n",
       "      <td>Female</td>\n",
       "      <td>0</td>\n",
       "      <td>4356</td>\n",
       "      <td>40</td>\n",
       "      <td>United-States</td>\n",
       "      <td>&lt;=50K</td>\n",
       "    </tr>\n",
       "    <tr>\n",
       "      <th>3</th>\n",
       "      <td>54</td>\n",
       "      <td>Private</td>\n",
       "      <td>140359</td>\n",
       "      <td>7th-8th</td>\n",
       "      <td>4</td>\n",
       "      <td>Divorced</td>\n",
       "      <td>Machine-op-inspct</td>\n",
       "      <td>Unmarried</td>\n",
       "      <td>White</td>\n",
       "      <td>Female</td>\n",
       "      <td>0</td>\n",
       "      <td>3900</td>\n",
       "      <td>40</td>\n",
       "      <td>United-States</td>\n",
       "      <td>&lt;=50K</td>\n",
       "    </tr>\n",
       "    <tr>\n",
       "      <th>4</th>\n",
       "      <td>41</td>\n",
       "      <td>Private</td>\n",
       "      <td>264663</td>\n",
       "      <td>Some-college</td>\n",
       "      <td>10</td>\n",
       "      <td>Separated</td>\n",
       "      <td>Prof-specialty</td>\n",
       "      <td>Own-child</td>\n",
       "      <td>White</td>\n",
       "      <td>Female</td>\n",
       "      <td>0</td>\n",
       "      <td>3900</td>\n",
       "      <td>40</td>\n",
       "      <td>United-States</td>\n",
       "      <td>&lt;=50K</td>\n",
       "    </tr>\n",
       "  </tbody>\n",
       "</table>\n",
       "</div>"
      ],
      "text/plain": [
       "   age workclass  fnlwgt     education  education.num marital.status  \\\n",
       "0   90         ?   77053       HS-grad              9        Widowed   \n",
       "1   82   Private  132870       HS-grad              9        Widowed   \n",
       "2   66         ?  186061  Some-college             10        Widowed   \n",
       "3   54   Private  140359       7th-8th              4       Divorced   \n",
       "4   41   Private  264663  Some-college             10      Separated   \n",
       "\n",
       "          occupation   relationship   race     sex  capital.gain  \\\n",
       "0                  ?  Not-in-family  White  Female             0   \n",
       "1    Exec-managerial  Not-in-family  White  Female             0   \n",
       "2                  ?      Unmarried  Black  Female             0   \n",
       "3  Machine-op-inspct      Unmarried  White  Female             0   \n",
       "4     Prof-specialty      Own-child  White  Female             0   \n",
       "\n",
       "   capital.loss  hours.per.week native.country income  \n",
       "0          4356              40  United-States  <=50K  \n",
       "1          4356              18  United-States  <=50K  \n",
       "2          4356              40  United-States  <=50K  \n",
       "3          3900              40  United-States  <=50K  \n",
       "4          3900              40  United-States  <=50K  "
      ]
     },
     "execution_count": 9,
     "metadata": {},
     "output_type": "execute_result"
    }
   ],
   "source": [
    "dataframe.head()"
   ]
  },
  {
   "cell_type": "code",
   "execution_count": 4,
   "metadata": {
    "_cell_guid": "9e853a5e-25df-47f7-9919-656a41c8eeab",
    "_uuid": "a3e877a44a23319b8845db9bbc9a346a90a48eb1",
    "collapsed": false
   },
   "outputs": [
    {
     "name": "stdout",
     "output_type": "stream",
     "text": [
      "DataFrame contains 32561 rows and 15 columns\n"
     ]
    }
   ],
   "source": [
    "df_shape = dataframe.shape\n",
    "print(\"DataFrame contains {rows} rows and {cols} columns\".format(rows=df_shape[0],\n",
    "                                                                cols=df_shape[1]))"
   ]
  },
  {
   "cell_type": "code",
   "execution_count": 5,
   "metadata": {
    "_cell_guid": "06d82b69-8045-42ab-852c-e34132e84006",
    "_uuid": "5ce4d9f18f38e9a7d68c3beb43d8a9756635f7db",
    "collapsed": false
   },
   "outputs": [
    {
     "name": "stdout",
     "output_type": "stream",
     "text": [
      "<class 'pandas.core.frame.DataFrame'>\n",
      "RangeIndex: 32561 entries, 0 to 32560\n",
      "Data columns (total 15 columns):\n",
      "age               32561 non-null int64\n",
      "workclass         32561 non-null object\n",
      "fnlwgt            32561 non-null int64\n",
      "education         32561 non-null object\n",
      "education.num     32561 non-null int64\n",
      "marital.status    32561 non-null object\n",
      "occupation        32561 non-null object\n",
      "relationship      32561 non-null object\n",
      "race              32561 non-null object\n",
      "sex               32561 non-null object\n",
      "capital.gain      32561 non-null int64\n",
      "capital.loss      32561 non-null int64\n",
      "hours.per.week    32561 non-null int64\n",
      "native.country    32561 non-null object\n",
      "income            32561 non-null object\n",
      "dtypes: int64(6), object(9)\n",
      "memory usage: 3.7+ MB\n"
     ]
    }
   ],
   "source": [
    "dataframe.info()"
   ]
  },
  {
   "cell_type": "code",
   "execution_count": 6,
   "metadata": {
    "_uuid": "23b4235f853ccb889240535ec8bbca656a7dcc8a",
    "collapsed": false
   },
   "outputs": [
    {
     "data": {
      "text/plain": [
       "<matplotlib.axes._subplots.AxesSubplot at 0x7fac297c5a58>"
      ]
     },
     "execution_count": 6,
     "metadata": {},
     "output_type": "execute_result"
    },
    {
     "data": {
      "image/png": "[encoded data removed]",
      "text/plain": [
       "<matplotlib.figure.Figure at 0x7fac2a2c1eb8>"
      ]
     },
     "metadata": {},
     "output_type": "display_data"
    }
   ],
   "source": [
    "sns.barplot(x='age',y='income',data=dataframe)"
   ]
  },
  {
   "cell_type": "markdown",
   "metadata": {
    "_cell_guid": "cbdf125e-856d-4b3c-924b-204e5441edca",
    "_uuid": "a681eaaa29b289517d2680a0ab2178f8900c868b"
   },
   "source": [
    "1. As per above info about this dataframe, it is clear that there is no NULL values present in the columns. Though, we need to confirm if there are some noise present in the dataset in other forms or not! Let's evaluate and analyse values in the dataset.\n",
    "2. We can also see that more aged persons have larger income than less aged persons"
   ]
  },
  {
   "cell_type": "code",
   "execution_count": 8,
   "metadata": {
    "_uuid": "a549e252212a818cc15ab757124d4a0365b0cd88",
    "collapsed": false
   },
   "outputs": [
    {
     "data": {
      "text/plain": [
       "<matplotlib.axes._subplots.AxesSubplot at 0x7fac263f25f8>"
      ]
     },
     "execution_count": 8,
     "metadata": {},
     "output_type": "execute_result"
    },
    {
     "data": {
      "image/png": "[encoded data removed]",
      "text/plain": [
       "<matplotlib.figure.Figure at 0x7fac29780fd0>"
      ]
     },
     "metadata": {},
     "output_type": "display_data"
    }
   ],
   "source": [
    "sns.barplot(x='education.num',y='income',data=dataframe,estimator=np.std)"
   ]
  },
  {
   "cell_type": "markdown",
   "metadata": {
    "_uuid": "5835ab51ea1a9735ad4bda48706e479c484ece7f"
   },
   "source": []
  },
  {
   "cell_type": "code",
   "execution_count": null,
   "metadata": {
    "_cell_guid": "e6b93f4e-3052-433e-94c4-8eae35ccc0ba",
    "_uuid": "65ef105b5db6dab9563d3ba9b9aad89b01ed4e7a",
    "collapsed": true
   },
   "outputs": [],
   "source": [
    "dataframe[dataframe.age<1]"
   ]
  },
  {
   "cell_type": "markdown",
   "metadata": {
    "_cell_guid": "e31f3e13-6f36-4301-bc87-a5d53e401814",
    "_uuid": "b2b571c17a94d4ac70e881401b7ca231c78f900f"
   },
   "source": [
    "So, clearly there is no illogical values for Age is present, such as \"Age cannot be less than 1\""
   ]
  },
  {
   "cell_type": "code",
   "execution_count": null,
   "metadata": {
    "_cell_guid": "9bccb8da-a267-4dcf-86fe-c69182f30fac",
    "_uuid": "691449cc4b7f4e9341711a48b1f3f7754032af0f",
    "collapsed": true
   },
   "outputs": [],
   "source": [
    "for col in dataframe.columns:\n",
    "    col_datatype = dataframe[col].dtype\n",
    "    if col_datatype == object:\n",
    "        print(col,\"->\", dataframe[col].unique(), end=\"\\n---*---\\n\")"
   ]
  },
  {
   "cell_type": "markdown",
   "metadata": {
    "_cell_guid": "cd838fd9-595b-4cfb-9185-fbcd88b0b557",
    "_uuid": "7f9b50c2de613f3ab9fb041df9b295dace69f42d"
   },
   "source": [
    "As per above list, it is clear that \"workclass, native.country and occupation\" columns contains ambigous value as Punctuation(?) Let's check how many values are affected."
   ]
  },
  {
   "cell_type": "code",
   "execution_count": null,
   "metadata": {
    "_cell_guid": "718e40ec-1b04-489a-96da-bf122d8ce371",
    "_uuid": "7814115b14707a846b2b8a1b4bc4190797621773",
    "collapsed": true
   },
   "outputs": [],
   "source": [
    "bool_series = (dataframe[\"workclass\"]=='?') | (dataframe[\"native.country\"]=='?') | (dataframe[\"occupation\"]=='?')\n",
    "dataframe[bool_series].shape"
   ]
  },
  {
   "cell_type": "markdown",
   "metadata": {
    "_cell_guid": "0248d7ad-c4d2-46bd-b5c3-62efa7ea76af",
    "_uuid": "1c49cb1d7c673721a0f44cb5b4de941e313a2f4e"
   },
   "source": [
    "Total of 2399/32561 records are affected! About 0.07% of the whole dataset which will not affect the data sufficiency if got removed."
   ]
  },
  {
   "cell_type": "code",
   "execution_count": null,
   "metadata": {
    "_cell_guid": "3072d261-7b5d-4ffa-89b7-8922099c611a",
    "_uuid": "502b95591c76beae3411b1ddfb459288a861fc3e",
    "collapsed": true
   },
   "outputs": [],
   "source": [
    "dataframe[dataframe[\"capital.gain\"]<0].shape"
   ]
  },
  {
   "cell_type": "code",
   "execution_count": null,
   "metadata": {
    "_cell_guid": "f9e7c984-4ba5-4bff-9944-c77b206230de",
    "_uuid": "a69119b008571f34c2b4aa01199c03647a38d07d",
    "collapsed": true
   },
   "outputs": [],
   "source": [
    "dataframe[dataframe[\"capital.loss\"]<0].shape"
   ]
  },
  {
   "cell_type": "markdown",
   "metadata": {
    "_cell_guid": "311c59a0-8e3f-4af8-b06d-5eca6881559b",
    "_uuid": "6840cfdf42ea2cb76682d615761ed5df36d6d077"
   },
   "source": [
    "Clearly Loss and Gain cannot be negative! Also, dataset indicates none! Cheers. Now, let's get rid of all values by removing all rows containing '?' using bool_serie generated above."
   ]
  },
  {
   "cell_type": "code",
   "execution_count": null,
   "metadata": {
    "_cell_guid": "a39aec5c-8016-4e07-b1a9-f637d28888e8",
    "_uuid": "439b0274b3b0abebabe64b86706f43031d5b820c",
    "collapsed": true
   },
   "outputs": [],
   "source": [
    "filter_df = dataframe[~bool_series].copy()"
   ]
  },
  {
   "cell_type": "code",
   "execution_count": null,
   "metadata": {
    "_cell_guid": "67c1f40b-dc97-46e0-afa9-c7085df4eb87",
    "_uuid": "5866b392e51e5250f9b23c6a97b5f0e7efc866b1",
    "collapsed": true
   },
   "outputs": [],
   "source": [
    "x = filter_df.drop(\"income\", axis=1)\n",
    "y = filter_df[\"income\"]"
   ]
  },
  {
   "cell_type": "code",
   "execution_count": null,
   "metadata": {
    "_cell_guid": "8107df53-8c24-4026-8beb-74d31cf8bfe2",
    "_uuid": "69c04558f05a6e8178854d027036415fd61aa571",
    "collapsed": true
   },
   "outputs": [],
   "source": [
    "corr=filter_df.corr()\n",
    "mask = np.zeros_like(corr)\n",
    "mask[np.triu_indices_from(mask)] = True\n",
    "with sns.axes_style(\"white\"):\n",
    "    sns.heatmap(corr, mask=mask, square=True, annot=True)"
   ]
  },
  {
   "cell_type": "code",
   "execution_count": null,
   "metadata": {
    "_cell_guid": "af91ea86-1eaa-4416-92c6-e6cca77a755a",
    "_uuid": "f7c9ffb824c084c026757b4ca77ffadef10eff99",
    "collapsed": true
   },
   "outputs": [],
   "source": [
    "x.reset_index(drop=True, inplace=True)\n",
    "label_enc_dict = dict()\n",
    "one_hot_enc_dict = dict()\n",
    "hot_enc_df = pd.DataFrame()\n",
    "for col in x.columns:\n",
    "    col_datatype = x[col].dtype\n",
    "    if col_datatype == object:\n",
    "        unique_value_list = x[col].unique()\n",
    "        headers = [\"{0}_{1}\".format(col, feature) for feature in unique_value_list]\n",
    "        label_enc_dict[col] = LabelEncoder()\n",
    "        label_enc_dict[col].fit(x[col])\n",
    "        label_enc_col = label_enc_dict[col].transform(x[col])\n",
    "        one_hot_enc_dict[col] = OneHotEncoder(sparse=False)\n",
    "        label_enc_col = label_enc_col.reshape(len(label_enc_col), 1)\n",
    "        one_hot_enc_dict[col].fit(label_enc_col)\n",
    "        one_hot_list = list(one_hot_enc_dict[col].transform(label_enc_col))\n",
    "        dummy_df = pd.DataFrame(one_hot_list, columns=headers)\n",
    "        dummy_df.drop(headers[0], axis=1, inplace=True)\n",
    "        hot_enc_df = pd.concat([hot_enc_df, dummy_df], axis=1)\n",
    "    else:\n",
    "        hot_enc_df.reset_index(drop=True, inplace=True)\n",
    "        hot_enc_df[col] = x[col]"
   ]
  },
  {
   "cell_type": "code",
   "execution_count": null,
   "metadata": {
    "_cell_guid": "f2809777-1905-43c5-abff-44f9617b2cc6",
    "_uuid": "8a5b287186d0dc14d05baeb0d7e6af68755a23d6",
    "collapsed": true
   },
   "outputs": [],
   "source": [
    "y_enc = LabelEncoder()\n",
    "y_label_enc = y_enc.fit_transform(y)\n",
    "label_enc_dict[\"income\"] = y_enc"
   ]
  },
  {
   "cell_type": "code",
   "execution_count": null,
   "metadata": {
    "_cell_guid": "36d67459-383b-4cc6-9381-7410f8976d4b",
    "_uuid": "e8185ce373e875baf89a7ad29feef6848ca36b83",
    "collapsed": true
   },
   "outputs": [],
   "source": [
    "x_train, x_test, y_train, y_test = train_test_split(hot_enc_df, y_label_enc, test_size=0.2, random_state=0)"
   ]
  },
  {
   "cell_type": "code",
   "execution_count": null,
   "metadata": {
    "_cell_guid": "bbf08b9e-6306-4121-b50f-c2ce28de8aec",
    "_uuid": "6a800438a7c35583554dd71060886718cc334963",
    "collapsed": true
   },
   "outputs": [],
   "source": [
    "classifier = DecisionTreeClassifier()\n",
    "parameters = {\n",
    "    'criterion': (\"gini\", \"entropy\"),\n",
    "    'splitter': (\"best\", \"random\")}"
   ]
  },
  {
   "cell_type": "code",
   "execution_count": null,
   "metadata": {
    "_cell_guid": "e7ab902e-4230-49de-aea6-0bd77090ec72",
    "_uuid": "e0911fd5da855145e7f095280572e7ee7513dc6d",
    "collapsed": true
   },
   "outputs": [],
   "source": [
    "grid_search = GridSearchCV(classifier, parameters, n_jobs=-1)\n",
    "grid_search.fit(x_train, y_train)"
   ]
  },
  {
   "cell_type": "code",
   "execution_count": null,
   "metadata": {
    "_cell_guid": "f87bada9-e399-4e90-85d6-9996b8e9f799",
    "_uuid": "df715d00d9d798fb83fc56e7f62e06435e6d4182",
    "collapsed": true
   },
   "outputs": [],
   "source": [
    "grid_search.best_params_"
   ]
  },
  {
   "cell_type": "code",
   "execution_count": null,
   "metadata": {
    "_cell_guid": "81f294b6-d7cb-43d7-9ddc-203de50b177b",
    "_uuid": "c8d189a5695d8d03e0ae4a595865e1acf5f4e071",
    "collapsed": true
   },
   "outputs": [],
   "source": [
    "grid_search.best_score_"
   ]
  },
  {
   "cell_type": "code",
   "execution_count": null,
   "metadata": {
    "_cell_guid": "2cba462b-6136-4963-90b8-3d6b41c9e355",
    "_uuid": "aed14de4733c9891b46bfc6aea13f36ce7119080",
    "collapsed": true
   },
   "outputs": [],
   "source": [
    "classifier = DecisionTreeClassifier(criterion=\"entropy\", splitter=\"best\")\n",
    "classifier.fit(x_train, y_train)"
   ]
  },
  {
   "cell_type": "code",
   "execution_count": null,
   "metadata": {
    "_cell_guid": "043d0ca1-4a42-4e4e-b86b-b44d2189e656",
    "_uuid": "4cdc308c1593c5d1c7cdb9488a27b964a3b71ffb",
    "collapsed": true
   },
   "outputs": [],
   "source": [
    "score = classifier.score(x_test, y_test)\n",
    "print(\"Classifier Score: {}%\".format(round(score*100, 2)))"
   ]
  },
  {
   "cell_type": "code",
   "execution_count": null,
   "metadata": {
    "_cell_guid": "345ed5f2-eecd-419d-9868-78ed843618b4",
    "_uuid": "a304f40ef8721bba153bea458e14914b6280bfab",
    "collapsed": true
   },
   "outputs": [],
   "source": [
    "y_pred=classifier.predict(x_test)"
   ]
  },
  {
   "cell_type": "code",
   "execution_count": null,
   "metadata": {
    "_cell_guid": "2c1dcda2-d9a3-43b0-a3e3-2c1d34faeb77",
    "_uuid": "2a2a06267fe595b646e53957480f9d51b013906a",
    "collapsed": true
   },
   "outputs": [],
   "source": [
    "label_enc_dict[\"income\"].inverse_transform(y_pred)"
   ]
  },
  {
   "cell_type": "code",
   "execution_count": null,
   "metadata": {
    "_cell_guid": "bc77e216-9a72-4455-8e3f-f091ac8186e2",
    "_uuid": "9cd693d2aef288886b0a8d8e217627d7637c76bb",
    "collapsed": true
   },
   "outputs": [],
   "source": []
  }
 ],
 "metadata": {
  "kernelspec": {
   "display_name": "Python 3",
   "language": "python",
   "name": "python3"
  },
  "language_info": {
   "codemirror_mode": {
    "name": "ipython",
    "version": 3
   },
   "file_extension": ".py",
   "mimetype": "text/x-python",
   "name": "python",
   "nbconvert_exporter": "python",
   "pygments_lexer": "ipython3",
   "version": "3.6.0"
  }
 },
 "nbformat": 4,
 "nbformat_minor": 1
}
